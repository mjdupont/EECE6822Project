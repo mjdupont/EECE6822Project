{
 "cells": [
  {
   "cell_type": "code",
   "execution_count": 21,
   "metadata": {},
   "outputs": [
    {
     "name": "stdout",
     "output_type": "stream",
     "text": [
      "Raw Data: rows containing at least one na: 474\n",
      "Aggregated Man Data: rows containing at least one na: 427\n",
      "2022-01-01 06:00:00+00:00 2018-01-01 06:00:00+00:00\n",
      "2103841\n",
      "2041099\n",
      "Aggregated Data: rows containing at least one na: 972\n"
     ]
    }
   ],
   "source": [
    "import pandas as pd\n",
    "import numpy as np\n",
    "import math\n",
    "import plotly.graph_objects as go\n",
    "from src.solar_forecasting_model import STATIONS, HOURS_AHEAD, HOURS_HX, HOURS_FORECASTED, generate_historical_features, generate_harmonic_historical_features, generate_persistence_fcst, historical_feature, build_and_train_model_validation_hx\n",
    "from sklearn.preprocessing import MinMaxScaler\n",
    "\n",
    "sample_filename = f'data_src/{STATIONS[0]}_observations.csv'\n",
    "sample_dataframe = pd.read_csv(sample_filename, parse_dates=['timestamp']).set_index('timestamp')\n",
    "\n",
    "print(f'Raw Data: rows containing at least one na: {sample_dataframe.isna().any(axis=1).sum()}')\n",
    "sample_manual_agg = sample_dataframe.resample(rule='1H').mean().interpolate(limit=6)\n",
    "print(f'Aggregated Man Data: rows containing at least one na: {sample_manual_agg.isna().any(axis=1).sum()}')\n",
    "maxt=max(sample_dataframe.index)\n",
    "mint=min(sample_dataframe.index)\n",
    "print(maxt, mint)\n",
    "new_dates = pd.date_range(start=mint, end=maxt, freq='min')\n",
    "print(len(new_dates))\n",
    "print(len(sample_dataframe.index))\n",
    "\n",
    "sample_aggregated_dataframe = pd.read_csv(f'data_cleaned/{STATIONS[0]}_observations.csv', parse_dates=['timestamp'])\n",
    "print(f'Aggregated Data: rows containing at least one na: {sample_aggregated_dataframe.isna().any(axis=1).sum()}')\n",
    "\n",
    "# additional_weather_features = set(sample_dataframe.columns).difference(['timestamp', 'ghi'])\n",
    "\n",
    "# all_features = ['ghi'] + list(additional_weather_features)\n",
    "# ## Prepare dataframe, with boxed values for historical data\n",
    "# dataframe = generate_historical_features(sample_dataframe, hours_ahead=HOURS_AHEAD, hours_history=HOURS_HX, hours_forecasted=HOURS_FORECASTED, features=all_features)\n",
    "# dataframe = generate_harmonic_historical_features(dataframe, hours_ahead=HOURS_AHEAD, hours_history=HOURS_HX)\n",
    "# dataframe = generate_persistence_fcst(dataframe, hours_ahead=HOURS_AHEAD, hours_forecasted=HOURS_FORECASTED)\n",
    "\n",
    "# print(dataframe.isna().sum().sum())\n"
   ]
  }
 ],
 "metadata": {
  "interpreter": {
   "hash": "b47807ddd700c94f304e4113d479a244693ac31a1d1fef3ce29352fc723c0745"
  },
  "kernelspec": {
   "display_name": "Python 3.9.12 ('solar_forecasting_project')",
   "language": "python",
   "name": "python3"
  },
  "language_info": {
   "codemirror_mode": {
    "name": "ipython",
    "version": 3
   },
   "file_extension": ".py",
   "mimetype": "text/x-python",
   "name": "python",
   "nbconvert_exporter": "python",
   "pygments_lexer": "ipython3",
   "version": "3.9.12"
  },
  "orig_nbformat": 4
 },
 "nbformat": 4,
 "nbformat_minor": 2
}
